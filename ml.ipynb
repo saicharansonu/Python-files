{
 "cells": [
  {
   "cell_type": "code",
   "execution_count": 12,
   "metadata": {},
   "outputs": [],
   "source": [
    "import numpy as np\n",
    "import pandas as pd\n",
    "import matplotlib.pyplot as plt"
   ]
  },
  {
   "cell_type": "code",
   "execution_count": 16,
   "metadata": {},
   "outputs": [],
   "source": [
    "data = pd.read_csv(r\"C:\\Users\\G.VENKATARAMANA\\ML datasets\\White Quality Prediction\\winequality_red.csv\")"
   ]
  },
  {
   "cell_type": "code",
   "execution_count": 18,
   "metadata": {},
   "outputs": [
    {
     "data": {
      "text/html": [
       "<div>\n",
       "<style scoped>\n",
       "    .dataframe tbody tr th:only-of-type {\n",
       "        vertical-align: middle;\n",
       "    }\n",
       "\n",
       "    .dataframe tbody tr th {\n",
       "        vertical-align: top;\n",
       "    }\n",
       "\n",
       "    .dataframe thead th {\n",
       "        text-align: right;\n",
       "    }\n",
       "</style>\n",
       "<table border=\"1\" class=\"dataframe\">\n",
       "  <thead>\n",
       "    <tr style=\"text-align: right;\">\n",
       "      <th></th>\n",
       "      <th>fixed acidity</th>\n",
       "      <th>volatile acidity</th>\n",
       "      <th>citric acid</th>\n",
       "      <th>residual sugar</th>\n",
       "      <th>chlorides</th>\n",
       "      <th>free sulfur dioxide</th>\n",
       "      <th>total sulfur dioxide</th>\n",
       "      <th>density</th>\n",
       "      <th>pH</th>\n",
       "      <th>sulphates</th>\n",
       "      <th>alcohol</th>\n",
       "      <th>quality</th>\n",
       "    </tr>\n",
       "  </thead>\n",
       "  <tbody>\n",
       "    <tr>\n",
       "      <th>0</th>\n",
       "      <td>7.4</td>\n",
       "      <td>0.70</td>\n",
       "      <td>0.00</td>\n",
       "      <td>1.9</td>\n",
       "      <td>0.076</td>\n",
       "      <td>11.0</td>\n",
       "      <td>34.0</td>\n",
       "      <td>0.9978</td>\n",
       "      <td>3.51</td>\n",
       "      <td>0.56</td>\n",
       "      <td>9.4</td>\n",
       "      <td>5</td>\n",
       "    </tr>\n",
       "    <tr>\n",
       "      <th>1</th>\n",
       "      <td>7.8</td>\n",
       "      <td>0.88</td>\n",
       "      <td>0.00</td>\n",
       "      <td>2.6</td>\n",
       "      <td>0.098</td>\n",
       "      <td>25.0</td>\n",
       "      <td>67.0</td>\n",
       "      <td>0.9968</td>\n",
       "      <td>3.20</td>\n",
       "      <td>0.68</td>\n",
       "      <td>9.8</td>\n",
       "      <td>5</td>\n",
       "    </tr>\n",
       "    <tr>\n",
       "      <th>2</th>\n",
       "      <td>7.8</td>\n",
       "      <td>0.76</td>\n",
       "      <td>0.04</td>\n",
       "      <td>2.3</td>\n",
       "      <td>0.092</td>\n",
       "      <td>15.0</td>\n",
       "      <td>54.0</td>\n",
       "      <td>0.9970</td>\n",
       "      <td>3.26</td>\n",
       "      <td>0.65</td>\n",
       "      <td>9.8</td>\n",
       "      <td>5</td>\n",
       "    </tr>\n",
       "    <tr>\n",
       "      <th>3</th>\n",
       "      <td>11.2</td>\n",
       "      <td>0.28</td>\n",
       "      <td>0.56</td>\n",
       "      <td>1.9</td>\n",
       "      <td>0.075</td>\n",
       "      <td>17.0</td>\n",
       "      <td>60.0</td>\n",
       "      <td>0.9980</td>\n",
       "      <td>3.16</td>\n",
       "      <td>0.58</td>\n",
       "      <td>9.8</td>\n",
       "      <td>6</td>\n",
       "    </tr>\n",
       "    <tr>\n",
       "      <th>4</th>\n",
       "      <td>7.4</td>\n",
       "      <td>0.70</td>\n",
       "      <td>0.00</td>\n",
       "      <td>1.9</td>\n",
       "      <td>0.076</td>\n",
       "      <td>11.0</td>\n",
       "      <td>34.0</td>\n",
       "      <td>0.9978</td>\n",
       "      <td>3.51</td>\n",
       "      <td>0.56</td>\n",
       "      <td>9.4</td>\n",
       "      <td>5</td>\n",
       "    </tr>\n",
       "  </tbody>\n",
       "</table>\n",
       "</div>"
      ],
      "text/plain": [
       "   fixed acidity  volatile acidity  citric acid  residual sugar  chlorides  \\\n",
       "0            7.4              0.70         0.00             1.9      0.076   \n",
       "1            7.8              0.88         0.00             2.6      0.098   \n",
       "2            7.8              0.76         0.04             2.3      0.092   \n",
       "3           11.2              0.28         0.56             1.9      0.075   \n",
       "4            7.4              0.70         0.00             1.9      0.076   \n",
       "\n",
       "   free sulfur dioxide  total sulfur dioxide  density    pH  sulphates  \\\n",
       "0                 11.0                  34.0   0.9978  3.51       0.56   \n",
       "1                 25.0                  67.0   0.9968  3.20       0.68   \n",
       "2                 15.0                  54.0   0.9970  3.26       0.65   \n",
       "3                 17.0                  60.0   0.9980  3.16       0.58   \n",
       "4                 11.0                  34.0   0.9978  3.51       0.56   \n",
       "\n",
       "   alcohol  quality  \n",
       "0      9.4        5  \n",
       "1      9.8        5  \n",
       "2      9.8        5  \n",
       "3      9.8        6  \n",
       "4      9.4        5  "
      ]
     },
     "execution_count": 18,
     "metadata": {},
     "output_type": "execute_result"
    }
   ],
   "source": [
    "data.head(5)"
   ]
  },
  {
   "cell_type": "code",
   "execution_count": 19,
   "metadata": {},
   "outputs": [
    {
     "data": {
      "text/html": [
       "<div>\n",
       "<style scoped>\n",
       "    .dataframe tbody tr th:only-of-type {\n",
       "        vertical-align: middle;\n",
       "    }\n",
       "\n",
       "    .dataframe tbody tr th {\n",
       "        vertical-align: top;\n",
       "    }\n",
       "\n",
       "    .dataframe thead th {\n",
       "        text-align: right;\n",
       "    }\n",
       "</style>\n",
       "<table border=\"1\" class=\"dataframe\">\n",
       "  <thead>\n",
       "    <tr style=\"text-align: right;\">\n",
       "      <th></th>\n",
       "      <th>fixed acidity</th>\n",
       "      <th>volatile acidity</th>\n",
       "      <th>citric acid</th>\n",
       "      <th>residual sugar</th>\n",
       "      <th>chlorides</th>\n",
       "      <th>free sulfur dioxide</th>\n",
       "      <th>total sulfur dioxide</th>\n",
       "      <th>density</th>\n",
       "      <th>pH</th>\n",
       "      <th>sulphates</th>\n",
       "      <th>alcohol</th>\n",
       "      <th>quality</th>\n",
       "    </tr>\n",
       "  </thead>\n",
       "  <tbody>\n",
       "    <tr>\n",
       "      <th>count</th>\n",
       "      <td>1599.000000</td>\n",
       "      <td>1599.000000</td>\n",
       "      <td>1599.000000</td>\n",
       "      <td>1599.000000</td>\n",
       "      <td>1599.000000</td>\n",
       "      <td>1599.000000</td>\n",
       "      <td>1599.000000</td>\n",
       "      <td>1599.000000</td>\n",
       "      <td>1599.000000</td>\n",
       "      <td>1599.000000</td>\n",
       "      <td>1599.000000</td>\n",
       "      <td>1599.000000</td>\n",
       "    </tr>\n",
       "    <tr>\n",
       "      <th>mean</th>\n",
       "      <td>8.319637</td>\n",
       "      <td>0.527821</td>\n",
       "      <td>0.270976</td>\n",
       "      <td>2.538806</td>\n",
       "      <td>0.087467</td>\n",
       "      <td>15.874922</td>\n",
       "      <td>46.467792</td>\n",
       "      <td>0.996747</td>\n",
       "      <td>3.311113</td>\n",
       "      <td>0.658149</td>\n",
       "      <td>10.422983</td>\n",
       "      <td>5.636023</td>\n",
       "    </tr>\n",
       "    <tr>\n",
       "      <th>std</th>\n",
       "      <td>1.741096</td>\n",
       "      <td>0.179060</td>\n",
       "      <td>0.194801</td>\n",
       "      <td>1.409928</td>\n",
       "      <td>0.047065</td>\n",
       "      <td>10.460157</td>\n",
       "      <td>32.895324</td>\n",
       "      <td>0.001887</td>\n",
       "      <td>0.154386</td>\n",
       "      <td>0.169507</td>\n",
       "      <td>1.065668</td>\n",
       "      <td>0.807569</td>\n",
       "    </tr>\n",
       "    <tr>\n",
       "      <th>min</th>\n",
       "      <td>4.600000</td>\n",
       "      <td>0.120000</td>\n",
       "      <td>0.000000</td>\n",
       "      <td>0.900000</td>\n",
       "      <td>0.012000</td>\n",
       "      <td>1.000000</td>\n",
       "      <td>6.000000</td>\n",
       "      <td>0.990070</td>\n",
       "      <td>2.740000</td>\n",
       "      <td>0.330000</td>\n",
       "      <td>8.400000</td>\n",
       "      <td>3.000000</td>\n",
       "    </tr>\n",
       "    <tr>\n",
       "      <th>25%</th>\n",
       "      <td>7.100000</td>\n",
       "      <td>0.390000</td>\n",
       "      <td>0.090000</td>\n",
       "      <td>1.900000</td>\n",
       "      <td>0.070000</td>\n",
       "      <td>7.000000</td>\n",
       "      <td>22.000000</td>\n",
       "      <td>0.995600</td>\n",
       "      <td>3.210000</td>\n",
       "      <td>0.550000</td>\n",
       "      <td>9.500000</td>\n",
       "      <td>5.000000</td>\n",
       "    </tr>\n",
       "    <tr>\n",
       "      <th>50%</th>\n",
       "      <td>7.900000</td>\n",
       "      <td>0.520000</td>\n",
       "      <td>0.260000</td>\n",
       "      <td>2.200000</td>\n",
       "      <td>0.079000</td>\n",
       "      <td>14.000000</td>\n",
       "      <td>38.000000</td>\n",
       "      <td>0.996750</td>\n",
       "      <td>3.310000</td>\n",
       "      <td>0.620000</td>\n",
       "      <td>10.200000</td>\n",
       "      <td>6.000000</td>\n",
       "    </tr>\n",
       "    <tr>\n",
       "      <th>75%</th>\n",
       "      <td>9.200000</td>\n",
       "      <td>0.640000</td>\n",
       "      <td>0.420000</td>\n",
       "      <td>2.600000</td>\n",
       "      <td>0.090000</td>\n",
       "      <td>21.000000</td>\n",
       "      <td>62.000000</td>\n",
       "      <td>0.997835</td>\n",
       "      <td>3.400000</td>\n",
       "      <td>0.730000</td>\n",
       "      <td>11.100000</td>\n",
       "      <td>6.000000</td>\n",
       "    </tr>\n",
       "    <tr>\n",
       "      <th>max</th>\n",
       "      <td>15.900000</td>\n",
       "      <td>1.580000</td>\n",
       "      <td>1.000000</td>\n",
       "      <td>15.500000</td>\n",
       "      <td>0.611000</td>\n",
       "      <td>72.000000</td>\n",
       "      <td>289.000000</td>\n",
       "      <td>1.003690</td>\n",
       "      <td>4.010000</td>\n",
       "      <td>2.000000</td>\n",
       "      <td>14.900000</td>\n",
       "      <td>8.000000</td>\n",
       "    </tr>\n",
       "  </tbody>\n",
       "</table>\n",
       "</div>"
      ],
      "text/plain": [
       "       fixed acidity  volatile acidity  citric acid  residual sugar  \\\n",
       "count    1599.000000       1599.000000  1599.000000     1599.000000   \n",
       "mean        8.319637          0.527821     0.270976        2.538806   \n",
       "std         1.741096          0.179060     0.194801        1.409928   \n",
       "min         4.600000          0.120000     0.000000        0.900000   \n",
       "25%         7.100000          0.390000     0.090000        1.900000   \n",
       "50%         7.900000          0.520000     0.260000        2.200000   \n",
       "75%         9.200000          0.640000     0.420000        2.600000   \n",
       "max        15.900000          1.580000     1.000000       15.500000   \n",
       "\n",
       "         chlorides  free sulfur dioxide  total sulfur dioxide      density  \\\n",
       "count  1599.000000          1599.000000           1599.000000  1599.000000   \n",
       "mean      0.087467            15.874922             46.467792     0.996747   \n",
       "std       0.047065            10.460157             32.895324     0.001887   \n",
       "min       0.012000             1.000000              6.000000     0.990070   \n",
       "25%       0.070000             7.000000             22.000000     0.995600   \n",
       "50%       0.079000            14.000000             38.000000     0.996750   \n",
       "75%       0.090000            21.000000             62.000000     0.997835   \n",
       "max       0.611000            72.000000            289.000000     1.003690   \n",
       "\n",
       "                pH    sulphates      alcohol      quality  \n",
       "count  1599.000000  1599.000000  1599.000000  1599.000000  \n",
       "mean      3.311113     0.658149    10.422983     5.636023  \n",
       "std       0.154386     0.169507     1.065668     0.807569  \n",
       "min       2.740000     0.330000     8.400000     3.000000  \n",
       "25%       3.210000     0.550000     9.500000     5.000000  \n",
       "50%       3.310000     0.620000    10.200000     6.000000  \n",
       "75%       3.400000     0.730000    11.100000     6.000000  \n",
       "max       4.010000     2.000000    14.900000     8.000000  "
      ]
     },
     "execution_count": 19,
     "metadata": {},
     "output_type": "execute_result"
    }
   ],
   "source": [
    "data.describe()"
   ]
  },
  {
   "cell_type": "code",
   "execution_count": 20,
   "metadata": {},
   "outputs": [],
   "source": [
    "x=data.iloc[:,:-1]\n",
    "y=data.iloc[:,-1]"
   ]
  },
  {
   "cell_type": "code",
   "execution_count": 21,
   "metadata": {},
   "outputs": [
    {
     "data": {
      "text/plain": [
       "fixed acidity           1599\n",
       "volatile acidity        1599\n",
       "citric acid             1599\n",
       "residual sugar          1599\n",
       "chlorides               1599\n",
       "free sulfur dioxide     1599\n",
       "total sulfur dioxide    1599\n",
       "density                 1599\n",
       "pH                      1599\n",
       "sulphates               1599\n",
       "alcohol                 1599\n",
       "dtype: int64"
      ]
     },
     "execution_count": 21,
     "metadata": {},
     "output_type": "execute_result"
    }
   ],
   "source": [
    "x.count()"
   ]
  },
  {
   "cell_type": "code",
   "execution_count": 22,
   "metadata": {},
   "outputs": [
    {
     "data": {
      "text/plain": [
       "1599"
      ]
     },
     "execution_count": 22,
     "metadata": {},
     "output_type": "execute_result"
    }
   ],
   "source": [
    "y.count()"
   ]
  },
  {
   "cell_type": "code",
   "execution_count": 42,
   "metadata": {},
   "outputs": [],
   "source": [
    "from sklearn.model_selection import train_test_split\n",
    "from sklearn.linear_model import LinearRegression\n",
    "from sklearn.metrics import r2_score\n",
    "from sklearn.preprocessing import StandardScaler"
   ]
  },
  {
   "cell_type": "code",
   "execution_count": 43,
   "metadata": {},
   "outputs": [],
   "source": [
    "x_train,x_test,y_train,y_test=train_test_split(x,y,test_size=0.2,random_state=9)"
   ]
  },
  {
   "cell_type": "code",
   "execution_count": 44,
   "metadata": {},
   "outputs": [
    {
     "ename": "ValueError",
     "evalue": "Expected 2D array, got 1D array instead:\narray=[6. 5. 5. ... 7. 6. 6.].\nReshape your data either using array.reshape(-1, 1) if your data has a single feature or array.reshape(1, -1) if it contains a single sample.",
     "output_type": "error",
     "traceback": [
      "\u001b[1;31m---------------------------------------------------------------------------\u001b[0m",
      "\u001b[1;31mValueError\u001b[0m                                Traceback (most recent call last)",
      "\u001b[1;32m<ipython-input-44-deb440961bcf>\u001b[0m in \u001b[0;36m<module>\u001b[1;34m\u001b[0m\n\u001b[0;32m      1\u001b[0m \u001b[0msc_x\u001b[0m\u001b[1;33m=\u001b[0m\u001b[0mStandardScaler\u001b[0m\u001b[1;33m(\u001b[0m\u001b[1;33m)\u001b[0m\u001b[1;33m\u001b[0m\u001b[1;33m\u001b[0m\u001b[0m\n\u001b[0;32m      2\u001b[0m \u001b[0mx_train\u001b[0m\u001b[1;33m=\u001b[0m\u001b[0msc_x\u001b[0m\u001b[1;33m.\u001b[0m\u001b[0mfit_transform\u001b[0m\u001b[1;33m(\u001b[0m\u001b[0mx_train\u001b[0m\u001b[1;33m)\u001b[0m\u001b[1;33m\u001b[0m\u001b[1;33m\u001b[0m\u001b[0m\n\u001b[1;32m----> 3\u001b[1;33m \u001b[0my_train\u001b[0m\u001b[1;33m=\u001b[0m\u001b[0msc_x\u001b[0m\u001b[1;33m.\u001b[0m\u001b[0mtransform\u001b[0m\u001b[1;33m(\u001b[0m\u001b[0my_train\u001b[0m\u001b[1;33m)\u001b[0m\u001b[1;33m\u001b[0m\u001b[1;33m\u001b[0m\u001b[0m\n\u001b[0m",
      "\u001b[1;32m~\\Anaconda3\\lib\\site-packages\\sklearn\\preprocessing\\data.py\u001b[0m in \u001b[0;36mtransform\u001b[1;34m(self, X, copy)\u001b[0m\n\u001b[0;32m    756\u001b[0m         X = check_array(X, accept_sparse='csr', copy=copy,\n\u001b[0;32m    757\u001b[0m                         \u001b[0mestimator\u001b[0m\u001b[1;33m=\u001b[0m\u001b[0mself\u001b[0m\u001b[1;33m,\u001b[0m \u001b[0mdtype\u001b[0m\u001b[1;33m=\u001b[0m\u001b[0mFLOAT_DTYPES\u001b[0m\u001b[1;33m,\u001b[0m\u001b[1;33m\u001b[0m\u001b[1;33m\u001b[0m\u001b[0m\n\u001b[1;32m--> 758\u001b[1;33m                         force_all_finite='allow-nan')\n\u001b[0m\u001b[0;32m    759\u001b[0m \u001b[1;33m\u001b[0m\u001b[0m\n\u001b[0;32m    760\u001b[0m         \u001b[1;32mif\u001b[0m \u001b[0msparse\u001b[0m\u001b[1;33m.\u001b[0m\u001b[0missparse\u001b[0m\u001b[1;33m(\u001b[0m\u001b[0mX\u001b[0m\u001b[1;33m)\u001b[0m\u001b[1;33m:\u001b[0m\u001b[1;33m\u001b[0m\u001b[1;33m\u001b[0m\u001b[0m\n",
      "\u001b[1;32m~\\Anaconda3\\lib\\site-packages\\sklearn\\utils\\validation.py\u001b[0m in \u001b[0;36mcheck_array\u001b[1;34m(array, accept_sparse, accept_large_sparse, dtype, order, copy, force_all_finite, ensure_2d, allow_nd, ensure_min_samples, ensure_min_features, warn_on_dtype, estimator)\u001b[0m\n\u001b[0;32m    519\u001b[0m                     \u001b[1;34m\"Reshape your data either using array.reshape(-1, 1) if \"\u001b[0m\u001b[1;33m\u001b[0m\u001b[1;33m\u001b[0m\u001b[0m\n\u001b[0;32m    520\u001b[0m                     \u001b[1;34m\"your data has a single feature or array.reshape(1, -1) \"\u001b[0m\u001b[1;33m\u001b[0m\u001b[1;33m\u001b[0m\u001b[0m\n\u001b[1;32m--> 521\u001b[1;33m                     \"if it contains a single sample.\".format(array))\n\u001b[0m\u001b[0;32m    522\u001b[0m \u001b[1;33m\u001b[0m\u001b[0m\n\u001b[0;32m    523\u001b[0m         \u001b[1;31m# in the future np.flexible dtypes will be handled like object dtypes\u001b[0m\u001b[1;33m\u001b[0m\u001b[1;33m\u001b[0m\u001b[1;33m\u001b[0m\u001b[0m\n",
      "\u001b[1;31mValueError\u001b[0m: Expected 2D array, got 1D array instead:\narray=[6. 5. 5. ... 7. 6. 6.].\nReshape your data either using array.reshape(-1, 1) if your data has a single feature or array.reshape(1, -1) if it contains a single sample."
     ]
    }
   ],
   "source": [
    "sc_x=StandardScaler()\n",
    "x_train=sc_x.fit_transform(x_train)\n",
    "y_train=sc_x.transform(y_train)"
   ]
  },
  {
   "cell_type": "code",
   "execution_count": 45,
   "metadata": {},
   "outputs": [
    {
     "data": {
      "text/plain": [
       "array([[-1.11715648, -0.76113786,  0.30456978, ...,  0.32130683,\n",
       "        -0.23186711,  1.64867624],\n",
       "       [ 0.9662114 , -0.81664722,  0.56213705, ..., -1.03560829,\n",
       "        -0.05471177, -1.80444097],\n",
       "       [ 0.90834007, -0.15053495,  1.18029851, ..., -0.97099329,\n",
       "         0.53580602, -1.52445849],\n",
       "       ...,\n",
       "       [-0.36482919,  2.15310332, -0.77721277, ...,  0.25669183,\n",
       "        -0.05471177, -0.2178736 ],\n",
       "       [ 0.73472608,  0.18252119,  0.20154287, ..., -1.29406832,\n",
       "         1.53968626, -0.40452859],\n",
       "       [-0.01760121, -1.48275949,  0.76819087, ..., -0.64791826,\n",
       "         0.83106491, -0.96449354]])"
      ]
     },
     "execution_count": 45,
     "metadata": {},
     "output_type": "execute_result"
    }
   ],
   "source": [
    "x_train"
   ]
  },
  {
   "cell_type": "code",
   "execution_count": 46,
   "metadata": {},
   "outputs": [
    {
     "data": {
      "text/plain": [
       "1044    6\n",
       "1436    5\n",
       "1476    5\n",
       "1309    5\n",
       "449     6\n",
       "1275    6\n",
       "1257    6\n",
       "1570    6\n",
       "1493    5\n",
       "799     6\n",
       "958     7\n",
       "1153    6\n",
       "1305    5\n",
       "480     5\n",
       "211     6\n",
       "1438    5\n",
       "1273    5\n",
       "217     5\n",
       "333     5\n",
       "10      5\n",
       "170     4\n",
       "1118    6\n",
       "1467    4\n",
       "231     6\n",
       "1216    6\n",
       "910     6\n",
       "1038    7\n",
       "458     7\n",
       "351     6\n",
       "1595    6\n",
       "       ..\n",
       "214     6\n",
       "274     5\n",
       "1036    7\n",
       "632     6\n",
       "892     6\n",
       "234     6\n",
       "830     4\n",
       "1501    5\n",
       "952     7\n",
       "472     6\n",
       "1211    5\n",
       "238     6\n",
       "956     6\n",
       "988     5\n",
       "733     5\n",
       "1441    6\n",
       "347     6\n",
       "241     6\n",
       "1320    5\n",
       "571     6\n",
       "436     6\n",
       "1558    5\n",
       "577     5\n",
       "1149    6\n",
       "918     6\n",
       "56      5\n",
       "501     7\n",
       "638     7\n",
       "348     6\n",
       "382     6\n",
       "Name: quality, Length: 1279, dtype: int64"
      ]
     },
     "execution_count": 46,
     "metadata": {},
     "output_type": "execute_result"
    }
   ],
   "source": [
    "y_train"
   ]
  },
  {
   "cell_type": "code",
   "execution_count": 47,
   "metadata": {},
   "outputs": [
    {
     "data": {
      "text/plain": [
       "fixed acidity           320\n",
       "volatile acidity        320\n",
       "citric acid             320\n",
       "residual sugar          320\n",
       "chlorides               320\n",
       "free sulfur dioxide     320\n",
       "total sulfur dioxide    320\n",
       "density                 320\n",
       "pH                      320\n",
       "sulphates               320\n",
       "alcohol                 320\n",
       "dtype: int64"
      ]
     },
     "execution_count": 47,
     "metadata": {},
     "output_type": "execute_result"
    }
   ],
   "source": [
    "x_test.count()"
   ]
  },
  {
   "cell_type": "code",
   "execution_count": 48,
   "metadata": {},
   "outputs": [
    {
     "data": {
      "text/plain": [
       "320"
      ]
     },
     "execution_count": 48,
     "metadata": {},
     "output_type": "execute_result"
    }
   ],
   "source": [
    "y_test.count()"
   ]
  },
  {
   "cell_type": "code",
   "execution_count": 49,
   "metadata": {},
   "outputs": [],
   "source": [
    "regressor=LinearRegression()\n",
    "regressor.fit(x_train, y_train)\n",
    "y_pred=regressor.predict(x_test)"
   ]
  },
  {
   "cell_type": "code",
   "execution_count": 50,
   "metadata": {},
   "outputs": [
    {
     "data": {
      "text/plain": [
       "array([ 4.59574122e+00, -3.34750800e-01,  3.60137965e+00,  4.08143803e+00,\n",
       "        5.60254730e+00,  8.18144818e+00,  7.78854468e+00,  4.39659188e+00,\n",
       "        7.62570852e+00,  4.59117230e+00,  6.99926605e+00,  6.46790000e+00,\n",
       "        1.42430518e+00,  1.22500722e+00,  5.30666289e+00,  6.52721736e+00,\n",
       "        2.01003452e+00,  1.40670336e+00,  5.36338670e+00,  6.44870709e+00,\n",
       "        3.39260386e+00,  7.99178006e+00,  5.99590513e+00,  5.30978814e+00,\n",
       "        7.25233302e+00,  3.81345490e+00, -2.93628628e+00, -2.21313595e-01,\n",
       "       -2.01193436e-01,  3.68175557e+00,  6.26831595e+00,  5.97436936e+00,\n",
       "       -6.74144480e-01,  1.32366406e+00,  7.73593995e+00,  7.00487975e+00,\n",
       "        2.92728292e+00,  4.29799424e+00,  6.24424153e+00,  7.62370208e+00,\n",
       "        3.33394047e+00, -1.55098351e+00,  1.07907863e+00,  4.68204001e+00,\n",
       "        6.59626421e+00,  1.55286135e+00,  6.78066148e+00, -9.52135448e-01,\n",
       "        6.60340968e+00,  2.34667250e+00,  2.75787322e+00,  7.01419381e+00,\n",
       "        8.38607568e+00,  5.44003687e+00,  5.52950712e+00,  8.30143244e+00,\n",
       "        3.08282703e+00,  5.91149356e+00,  4.67770716e+00, -4.43180341e+00,\n",
       "        6.86408207e+00, -8.89340285e+00,  5.23725909e+00,  4.13389061e+00,\n",
       "        6.32587159e+00,  4.46272529e+00,  5.87680223e+00,  6.56569118e+00,\n",
       "        5.47037336e+00,  3.47376045e+00,  7.61844139e+00,  7.22093349e+00,\n",
       "        7.14581256e+00,  7.46549130e+00, -1.85384569e+00,  7.37671514e+00,\n",
       "        4.19204519e+00,  6.38298935e+00,  8.38607568e+00,  8.50771071e-01,\n",
       "        5.66793579e+00,  5.86542448e+00,  6.77778682e+00,  7.94884651e+00,\n",
       "        6.56807421e+00,  7.45849681e+00,  3.80029686e+00,  7.74603183e+00,\n",
       "       -5.76620275e+00,  6.18566675e+00, -3.22776003e+00,  4.72202606e+00,\n",
       "        7.88019791e+00, -2.70509938e+00,  7.95350656e+00,  3.95283754e+00,\n",
       "       -1.28322594e+00,  4.26129619e+00,  7.06792795e+00,  4.57867361e+00,\n",
       "        1.31251711e+00,  4.00713759e+00,  3.34858884e+00,  6.74136504e+00,\n",
       "        8.12229133e+00,  9.00384265e-01,  3.74128456e+00,  7.54230784e+00,\n",
       "       -2.17970039e+00,  3.50915193e+00,  7.64917597e+00,  5.23725909e+00,\n",
       "        5.67025830e+00,  5.87502811e+00,  4.83648425e+00, -2.45032723e+00,\n",
       "        6.16613696e+00, -2.03744359e+00,  5.36858990e+00,  6.12304706e+00,\n",
       "        5.01918025e+00,  2.94717850e+00,  4.33324819e+00,  1.68729041e+00,\n",
       "        6.55426100e+00,  2.41118133e+00,  5.37815774e+00,  6.73826922e+00,\n",
       "        4.26129445e+00,  7.80345125e+00,  1.42412330e+00,  1.16108767e+00,\n",
       "        2.11627458e+00,  5.65622518e+00, -1.41639655e+00,  6.77778682e+00,\n",
       "        6.48312701e+00,  7.30328321e+00,  6.49664391e+00, -5.01287769e-01,\n",
       "       -4.14931849e+00,  2.06171442e+00,  5.45323772e+00,  3.92298061e+00,\n",
       "        5.16597810e+00,  9.77394877e-03,  2.27779337e+00,  7.82831114e+00,\n",
       "        7.57583985e+00, -3.55878519e+00,  7.43810127e+00,  4.58927307e+00,\n",
       "        3.21573670e+00,  1.77544255e+00,  5.98268421e+00, -2.59707352e+00,\n",
       "        3.57427083e+00,  8.42764825e+00, -5.24146419e+00,  5.44462731e+00,\n",
       "        7.47530439e+00,  6.19372026e+00,  7.07052734e+00,  4.39652051e+00,\n",
       "        5.08493140e+00,  5.64572922e-01, -8.67095416e+00, -2.36951312e-01,\n",
       "        6.64702834e+00,  6.59902492e+00,  2.95745461e+00,  5.85936794e+00,\n",
       "        5.07107372e+00, -2.66430579e+00,  8.46000490e+00,  4.61427268e+00,\n",
       "        4.95550585e+00,  7.22142456e+00,  5.36338670e+00,  5.33739287e+00,\n",
       "        6.10552459e+00,  2.01003452e+00,  5.79631221e+00,  7.33993876e+00,\n",
       "        6.71945140e+00,  8.36856195e+00, -2.61891828e+01,  5.47806980e+00,\n",
       "       -1.29466483e+00,  1.62586797e+00, -6.13316933e+00, -1.36256081e-01,\n",
       "        6.62288593e+00,  8.10282628e+00,  2.17202399e+00,  6.59355149e+00,\n",
       "        5.93057072e+00, -7.36348606e+00,  6.64314559e+00,  8.20690437e+00,\n",
       "        8.30820240e+00,  5.64358510e+00, -9.40879559e+00,  4.08618161e+00,\n",
       "       -2.25017736e+00,  6.77679384e+00,  5.40880661e+00,  7.77367854e-01,\n",
       "        8.14283034e+00,  6.71010673e-01, -2.02110220e+00,  6.47859841e+00,\n",
       "        5.70149208e+00, -1.17366736e+00,  8.28229589e+00,  4.14558192e+00,\n",
       "        4.90142954e+00,  2.28770066e+00,  6.66234119e+00,  7.38958667e+00,\n",
       "        4.90910980e+00,  7.05264391e+00,  3.26615447e+00,  4.61538525e+00,\n",
       "        3.82282811e+00,  4.25907441e+00,  3.07184584e+00,  4.14173896e+00,\n",
       "        4.75906811e+00,  4.57867361e+00,  1.55286135e+00,  3.65276316e+00,\n",
       "        1.58372395e+00,  5.44462731e+00, -9.43588116e+00,  4.83033063e+00,\n",
       "        2.34303734e+00,  3.38863298e+00,  7.26570959e+00,  8.22063862e+00,\n",
       "        8.10282628e+00,  4.13922016e+00, -1.41502859e+00,  6.92343242e+00,\n",
       "        6.67575591e+00,  2.81448265e+00,  4.02633701e+00,  5.42220553e+00,\n",
       "        8.14815374e+00, -2.38745739e+00,  2.81266402e+00,  1.87381925e+00,\n",
       "        6.51435211e+00,  2.61518579e+00,  3.38424388e+00,  6.66255057e+00,\n",
       "       -3.61607370e+00,  4.64392203e+00,  6.21448220e+00,  5.90379226e+00,\n",
       "        6.71384839e+00, -1.06055417e+00,  4.57357430e+00, -7.73608540e+00,\n",
       "        5.41843892e+00,  7.06792795e+00,  2.17495416e+00,  7.66539225e+00,\n",
       "        6.40991278e-01, -1.20136090e+00, -5.33172497e+00,  7.62310215e+00,\n",
       "        1.43929550e+00,  8.53576280e+00,  3.49619376e+00,  6.86786279e+00,\n",
       "        2.53292601e+00,  5.49126972e+00,  2.72246342e+00,  6.46554009e+00,\n",
       "       -1.81241167e+00,  4.21166752e+00, -2.16686265e+00,  7.11252817e+00,\n",
       "        6.48928557e+00,  7.39627061e+00,  8.17529477e-01,  5.74348897e+00,\n",
       "        3.68680222e+00,  6.56475523e+00, -1.89017823e+00,  4.25907441e+00,\n",
       "        2.79536572e+00,  5.84324907e+00,  1.00355712e+00,  5.19424110e+00,\n",
       "        5.82443608e+00,  6.28221809e+00,  3.62829581e+00, -2.87478551e+00,\n",
       "       -9.16371713e+00,  3.74474221e+00, -2.59707352e+00,  4.87948905e+00,\n",
       "        7.21170093e+00,  2.89320904e+00, -2.01760089e+00,  2.32197746e+00,\n",
       "        6.87997107e+00,  4.83542587e+00,  7.01419381e+00,  6.39232625e+00,\n",
       "        9.34644540e-01, -5.21029634e+00, -8.18185351e-01,  2.45522669e+00,\n",
       "        4.97786707e-01,  6.14460969e+00, -2.81670542e+00,  6.58925028e+00])"
      ]
     },
     "execution_count": 50,
     "metadata": {},
     "output_type": "execute_result"
    }
   ],
   "source": [
    "y_pred"
   ]
  },
  {
   "cell_type": "code",
   "execution_count": 51,
   "metadata": {},
   "outputs": [
    {
     "data": {
      "text/plain": [
       "-33.43510072831282"
      ]
     },
     "execution_count": 51,
     "metadata": {},
     "output_type": "execute_result"
    }
   ],
   "source": [
    "acc=r2_score(y_test,y_pred)\n",
    "acc"
   ]
  },
  {
   "cell_type": "code",
   "execution_count": 52,
   "metadata": {},
   "outputs": [
    {
     "ename": "AttributeError",
     "evalue": "'numpy.ndarray' object has no attribute 'count'",
     "output_type": "error",
     "traceback": [
      "\u001b[1;31m---------------------------------------------------------------------------\u001b[0m",
      "\u001b[1;31mAttributeError\u001b[0m                            Traceback (most recent call last)",
      "\u001b[1;32m<ipython-input-52-9422df9459ce>\u001b[0m in \u001b[0;36m<module>\u001b[1;34m\u001b[0m\n\u001b[1;32m----> 1\u001b[1;33m \u001b[0mx_train\u001b[0m\u001b[1;33m.\u001b[0m\u001b[0mcount\u001b[0m\u001b[1;33m(\u001b[0m\u001b[1;33m)\u001b[0m\u001b[1;33m\u001b[0m\u001b[1;33m\u001b[0m\u001b[0m\n\u001b[0m",
      "\u001b[1;31mAttributeError\u001b[0m: 'numpy.ndarray' object has no attribute 'count'"
     ]
    }
   ],
   "source": [
    "x_train.count()"
   ]
  },
  {
   "cell_type": "code",
   "execution_count": 53,
   "metadata": {},
   "outputs": [
    {
     "ename": "TypeError",
     "evalue": "'Series' object is not callable",
     "output_type": "error",
     "traceback": [
      "\u001b[1;31m---------------------------------------------------------------------------\u001b[0m",
      "\u001b[1;31mTypeError\u001b[0m                                 Traceback (most recent call last)",
      "\u001b[1;32m<ipython-input-53-6020385e9320>\u001b[0m in \u001b[0;36m<module>\u001b[1;34m\u001b[0m\n\u001b[1;32m----> 1\u001b[1;33m \u001b[0my_train\u001b[0m\u001b[1;33m(\u001b[0m\u001b[1;33m)\u001b[0m\u001b[1;33m\u001b[0m\u001b[1;33m\u001b[0m\u001b[0m\n\u001b[0m",
      "\u001b[1;31mTypeError\u001b[0m: 'Series' object is not callable"
     ]
    }
   ],
   "source": [
    "y_train()"
   ]
  },
  {
   "cell_type": "code",
   "execution_count": 54,
   "metadata": {},
   "outputs": [
    {
     "data": {
      "image/png": "[encoded data removed]",
      "text/plain": [
       "<Figure size 432x288 with 1 Axes>"
      ]
     },
     "metadata": {
      "needs_background": "light"
     },
     "output_type": "display_data"
    }
   ],
   "source": [
    "plt.bar(y_test,y_pred,color='red')\n",
    "plt.xlabel('y_test')\n",
    "plt.ylabel('y_pred')\n",
    "plt.show()"
   ]
  },
  {
   "cell_type": "code",
   "execution_count": null,
   "metadata": {},
   "outputs": [],
   "source": []
  }
 ],
 "metadata": {
  "kernelspec": {
   "display_name": "Python 3",
   "language": "python",
   "name": "python3"
  },
  "language_info": {
   "codemirror_mode": {
    "name": "ipython",
    "version": 3
   },
   "file_extension": ".py",
   "mimetype": "text/x-python",
   "name": "python",
   "nbconvert_exporter": "python",
   "pygments_lexer": "ipython3",
   "version": "3.7.3"
  }
 },
 "nbformat": 4,
 "nbformat_minor": 2
}
