{
 "cells": [
  {
   "cell_type": "code",
   "execution_count": 2,
   "metadata": {},
   "outputs": [],
   "source": [
    "import cv2"
   ]
  },
  {
   "cell_type": "code",
   "execution_count": 3,
   "metadata": {},
   "outputs": [],
   "source": [
    "img = cv2.imread(\"royal.jpg\")"
   ]
  },
  {
   "cell_type": "code",
   "execution_count": 9,
   "metadata": {},
   "outputs": [],
   "source": [
    "cv2.imshow(\"ROYAL ENFIELD\",img)\n",
    "\n",
    "cv2.waitKey(0)\n",
    "cv2.destroyAllWindows()"
   ]
  },
  {
   "cell_type": "code",
   "execution_count": 10,
   "metadata": {},
   "outputs": [
    {
     "data": {
      "text/plain": [
       "array([[[132, 124,  84],\n",
       "        [133, 125,  85],\n",
       "        [134, 126,  86],\n",
       "        ...,\n",
       "        [147, 137, 103],\n",
       "        [146, 136, 102],\n",
       "        [145, 135, 101]],\n",
       "\n",
       "       [[133, 125,  85],\n",
       "        [134, 126,  86],\n",
       "        [135, 127,  87],\n",
       "        ...,\n",
       "        [146, 136, 102],\n",
       "        [146, 136, 102],\n",
       "        [145, 135, 101]],\n",
       "\n",
       "       [[135, 126,  88],\n",
       "        [136, 127,  89],\n",
       "        [137, 128,  90],\n",
       "        ...,\n",
       "        [146, 136, 102],\n",
       "        [145, 135, 101],\n",
       "        [145, 135, 101]],\n",
       "\n",
       "       ...,\n",
       "\n",
       "       [[ 78,  75,  70],\n",
       "        [ 70,  67,  62],\n",
       "        [ 71,  68,  63],\n",
       "        ...,\n",
       "        [ 51,  48,  40],\n",
       "        [ 51,  48,  40],\n",
       "        [ 50,  47,  39]],\n",
       "\n",
       "       [[ 61,  58,  53],\n",
       "        [ 56,  53,  48],\n",
       "        [ 68,  65,  60],\n",
       "        ...,\n",
       "        [ 57,  54,  46],\n",
       "        [ 57,  54,  46],\n",
       "        [ 57,  54,  46]],\n",
       "\n",
       "       [[ 59,  56,  51],\n",
       "        [ 48,  45,  40],\n",
       "        [ 53,  50,  45],\n",
       "        ...,\n",
       "        [ 63,  60,  52],\n",
       "        [ 63,  60,  52],\n",
       "        [ 63,  60,  52]]], dtype=uint8)"
      ]
     },
     "execution_count": 10,
     "metadata": {},
     "output_type": "execute_result"
    }
   ],
   "source": [
    "img"
   ]
  },
  {
   "cell_type": "code",
   "execution_count": 11,
   "metadata": {},
   "outputs": [
    {
     "name": "stdout",
     "output_type": "stream",
     "text": [
      "<class 'numpy.ndarray'>\n",
      "uint8\n",
      "(168, 300, 3)\n",
      "3\n",
      "151200\n"
     ]
    }
   ],
   "source": [
    "print(type(img))\n",
    "print(img.dtype)\n",
    "print(img.shape)\n",
    "print(img.ndim)\n",
    "print(img.size)"
   ]
  },
  {
   "cell_type": "code",
   "execution_count": 20,
   "metadata": {},
   "outputs": [],
   "source": [
    "img_2 = cv2.imread(\"royal.jpg\",0)\n",
    "cv2.imshow(\"CONTINENTAL GT\",img_2)\n",
    "\n",
    "cv2.waitKey(5000)\n",
    "cv2.destroyAllWindows()"
   ]
  },
  {
   "cell_type": "code",
   "execution_count": 24,
   "metadata": {},
   "outputs": [],
   "source": [
    "img_3 = cv2.imread(\"royal.jpg\",-1)\n",
    "cv2.imshow(\"CONTINENTAL GT\",img_3)\n",
    "\n",
    "cv2.waitKey(5000)\n",
    "cv2.destroyAllWindows()"
   ]
  },
  {
   "cell_type": "code",
   "execution_count": 25,
   "metadata": {},
   "outputs": [],
   "source": [
    "img_4 = cv2.imread(\"royal.jpg\",1)\n",
    "cv2.imshow(\"CONTINENTAL GT\",img_4)\n",
    "\n",
    "cv2.waitKey(5000)\n",
    "cv2.destroyAllWindows()"
   ]
  },
  {
   "cell_type": "code",
   "execution_count": 27,
   "metadata": {},
   "outputs": [
    {
     "ename": "TypeError",
     "evalue": "imshow() takes at most 2 arguments (4 given)",
     "output_type": "error",
     "traceback": [
      "\u001b[1;31m---------------------------------------------------------------------------\u001b[0m",
      "\u001b[1;31mTypeError\u001b[0m                                 Traceback (most recent call last)",
      "\u001b[1;32m<ipython-input-27-4aaa49cb494d>\u001b[0m in \u001b[0;36m<module>\u001b[1;34m\u001b[0m\n\u001b[1;32m----> 1\u001b[1;33m \u001b[0mcv2\u001b[0m\u001b[1;33m.\u001b[0m\u001b[0mimshow\u001b[0m\u001b[1;33m(\u001b[0m\u001b[0mimg\u001b[0m\u001b[1;33m,\u001b[0m\u001b[0mimg_2\u001b[0m\u001b[1;33m,\u001b[0m\u001b[0mimg_3\u001b[0m\u001b[1;33m,\u001b[0m\u001b[0mimg_4\u001b[0m\u001b[1;33m)\u001b[0m\u001b[1;33m\u001b[0m\u001b[1;33m\u001b[0m\u001b[0m\n\u001b[0m",
      "\u001b[1;31mTypeError\u001b[0m: imshow() takes at most 2 arguments (4 given)"
     ]
    }
   ],
   "source": [
    "cv2."
   ]
  },
  {
   "cell_type": "code",
   "execution_count": 30,
   "metadata": {},
   "outputs": [
    {
     "data": {
      "text/plain": [
       "True"
      ]
     },
     "execution_count": 30,
     "metadata": {},
     "output_type": "execute_result"
    }
   ],
   "source": [
    "cv2.imwrite(\"royal.jpg\",img)"
   ]
  },
  {
   "cell_type": "code",
   "execution_count": 42,
   "metadata": {},
   "outputs": [],
   "source": [
    "cv2.imshow(\"royal.jpg\",img)\n",
    "k = cv2.waitKey(0)\n",
    "\n",
    "if k==27:\n",
    "        destroyAllWindows()\n",
    "elif k == ord('s'):\n",
    "        cv2.imwrite(\"royal.jpg\",img1)\n",
    "        destroyAllWindows()"
   ]
  },
  {
   "cell_type": "code",
   "execution_count": null,
   "metadata": {},
   "outputs": [],
   "source": []
  },
  {
   "cell_type": "code",
   "execution_count": null,
   "metadata": {},
   "outputs": [],
   "source": []
  }
 ],
 "metadata": {
  "kernelspec": {
   "display_name": "Python 3",
   "language": "python",
   "name": "python3"
  },
  "language_info": {
   "codemirror_mode": {
    "name": "ipython",
    "version": 3
   },
   "file_extension": ".py",
   "mimetype": "text/x-python",
   "name": "python",
   "nbconvert_exporter": "python",
   "pygments_lexer": "ipython3",
   "version": "3.7.3"
  }
 },
 "nbformat": 4,
 "nbformat_minor": 2
}
