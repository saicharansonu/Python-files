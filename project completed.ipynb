{
 "cells": [
  {
   "cell_type": "markdown",
   "metadata": {},
   "source": [
    "#  IMPORTING LIBRARIES"
   ]
  },
  {
   "cell_type": "code",
   "execution_count": 1,
   "metadata": {},
   "outputs": [
    {
     "name": "stderr",
     "output_type": "stream",
     "text": [
      "Using TensorFlow backend.\n"
     ]
    }
   ],
   "source": [
    "import numpy as np\n",
    "import pandas as pd\n",
    "import matplotlib.pyplot as plt\n",
    "import tensorflow as ts\n",
    "import cv2\n",
    "import glob\n",
    "# Keras Imports\n",
    "\n",
    "from keras.models import Sequential,Model,load_model\n",
    "from keras.layers import Conv2D, MaxPooling2D, Flatten, Dense, Dropout, BatchNormalization,Input,Activation,ZeroPadding2D,Add,MaxPooling2D, GlobalMaxPooling2D,MaxPool2D\n",
    "from keras.preprocessing.image import ImageDataGenerator\n",
    "from keras.optimizers import Adam\n",
    "from keras.losses import binary_crossentropy\n",
    "import keras.backend as K\n",
    "from keras.initializers import glorot_uniform\n",
    "\n",
    "\n",
    "# Sci-kit learn imports\n",
    "from sklearn.metrics import roc_auc_score,r2_score,confusion_matrix\n",
    "from sklearn.model_selection import train_test_split\n",
    "from sklearn.model_selection import train_test_split\n",
    "from sklearn.utils import shuffle\n",
    "\n"
   ]
  },
  {
   "cell_type": "markdown",
   "metadata": {},
   "source": [
    "#  LOCATION OF THE DATA"
   ]
  },
  {
   "cell_type": "code",
   "execution_count": 2,
   "metadata": {},
   "outputs": [],
   "source": [
    "Uninfected = glob.glob(r'C:\\Users\\G.VENKATARAMANA\\DataSets\\cell-images-for-detecting-malaria\\cell_images\\cell_images\\Uninfected\\*.png')\n",
    "Infected = glob.glob(r'C:\\Users\\G.VENKATARAMANA\\DataSets\\cell-images-for-detecting-malaria\\cell_images\\cell_images\\Parasitized\\*.png')\n"
   ]
  },
  {
   "cell_type": "markdown",
   "metadata": {},
   "source": [
    "# READING THE IMAGES FROM THE DATASET"
   ]
  },
  {
   "cell_type": "code",
   "execution_count": 3,
   "metadata": {},
   "outputs": [],
   "source": [
    "data = []\n",
    "labels = []\n",
    "\n",
    "for i in Infected:\n",
    "    img = cv2.imread(i)\n",
    "    resize_img =cv2.resize(img,(120,120))\n",
    "    data.append(np.array(resize_img))\n",
    "    labels.append(0)\n",
    "\n",
    "for i in Uninfected:\n",
    "    img = cv2.imread(i)\n",
    "    resize_img = cv2.resize(img,(120,120))\n",
    "    data.append(np.array(resize_img))\n",
    "    labels.append(1)"
   ]
  },
  {
   "cell_type": "markdown",
   "metadata": {},
   "source": [
    "\n",
    "# COMBINING ALL THE IMAGES AND FORMING THE ARRAY"
   ]
  },
  {
   "cell_type": "code",
   "execution_count": 4,
   "metadata": {},
   "outputs": [
    {
     "data": {
      "text/plain": [
       "((27558, 120, 120, 3), (27558,))"
      ]
     },
     "execution_count": 4,
     "metadata": {},
     "output_type": "execute_result"
    }
   ],
   "source": [
    "img_arr  = np.array(data)\n",
    "label =np.array(labels)\n",
    "img_arr.shape , label.shape"
   ]
  },
  {
   "cell_type": "markdown",
   "metadata": {},
   "source": [
    "# SPLITTING THE DATA"
   ]
  },
  {
   "cell_type": "code",
   "execution_count": 5,
   "metadata": {},
   "outputs": [],
   "source": [
    "img_arr,label = shuffle(img_arr, label,random_state = 0)\n",
    "\n",
    "X_train,X_test, y_train,y_test = train_test_split(img_arr ,label,test_size = 0.2,random_state = 0)"
   ]
  },
  {
   "cell_type": "code",
   "execution_count": 6,
   "metadata": {},
   "outputs": [
    {
     "data": {
      "text/plain": [
       "numpy.ndarray"
      ]
     },
     "execution_count": 6,
     "metadata": {},
     "output_type": "execute_result"
    }
   ],
   "source": [
    " type(y_train)"
   ]
  },
  {
   "cell_type": "markdown",
   "metadata": {},
   "source": [
    "# CNN\n"
   ]
  },
  {
   "cell_type": "code",
   "execution_count": 7,
   "metadata": {
    "scrolled": true
   },
   "outputs": [],
   "source": [
    "classifier = Sequential()\n",
    "\n",
    "#Adding 1st Convolution and Pooling Layer\n",
    "classifier.add(Conv2D(32,kernel_size=(3,3),input_shape = (64, 64, 3), activation = 'relu'))\n",
    "classifier.add(MaxPool2D(pool_size=(2,2)))\n",
    "\n",
    "#Adding 2nd Convolution and Pooling Layer\n",
    "classifier.add(Conv2D(32,kernel_size=(3,3),activation = 'relu'))\n",
    "classifier.add(MaxPool2D(pool_size=(2,2)))\n",
    "\n",
    "#Adding 3rd Convolution and Pooling Layer\n",
    "classifier.add(Conv2D(32,kernel_size=(3,3), activation = 'relu'))\n",
    "classifier.add(MaxPool2D(pool_size=(2,2)))\n",
    "\n",
    "#Adding 4th Convolution and Pooling Layer\n",
    "classifier.add(Conv2D(32,kernel_size=(3,3), activation = 'relu'))\n",
    "classifier.add(MaxPool2D(pool_size=(2,2)))\n",
    "\n",
    "#Flattening\n",
    "classifier.add(Flatten())\n",
    "\n",
    "classifier.add(Dense(units=128,activation='relu'))\n",
    "classifier.add(Dense(units = 1, activation = 'sigmoid')) \n",
    "\n",
    "classifier.compile(optimizer = 'adam', loss = 'binary_crossentropy', metrics = ['accuracy'])\n"
   ]
  },
  {
   "cell_type": "markdown",
   "metadata": {},
   "source": [
    "# IMAGE SEGMENTATION"
   ]
  },
  {
   "cell_type": "code",
   "execution_count": 8,
   "metadata": {},
   "outputs": [
    {
     "name": "stdout",
     "output_type": "stream",
     "text": [
      "Found 27558 images belonging to 2 classes.\n",
      "Found 27558 images belonging to 2 classes.\n"
     ]
    }
   ],
   "source": [
    "parasite_datagen = ImageDataGenerator(rescale=1./255,shear_range=0.2,zoom_range=0.2,horizontal_flip=True)\n",
    "uninfected_datagen = ImageDataGenerator(rescale=1./255)\n",
    "parasite_data = parasite_datagen.flow_from_directory(r'C:\\Users\\G.VENKATARAMANA\\DataSets\\cell-images-for-detecting-malaria\\cell_images\\cell_images',\n",
    "                                                     target_size=(64,64),\n",
    "                                                     batch_size=32,\n",
    "                                                     class_mode = 'binary')\n",
    "uninfected_data = uninfected_datagen.flow_from_directory(r'C:\\Users\\G.VENKATARAMANA\\DataSets\\cell-images-for-detecting-malaria\\cell_images\\cell_images',\n",
    "                                                        target_size=(64,64),\n",
    "                                                        batch_size=32,\n",
    "                                                        class_mode = 'binary')"
   ]
  },
  {
   "cell_type": "markdown",
   "metadata": {},
   "source": [
    "# FITTING THE DATA AND FEEDING TO THE NEURAL NETWORK"
   ]
  },
  {
   "cell_type": "code",
   "execution_count": 9,
   "metadata": {},
   "outputs": [
    {
     "name": "stdout",
     "output_type": "stream",
     "text": [
      "Epoch 1/40\n",
      "100/100 [==============================] - 79s 787ms/step - loss: 0.6695 - accuracy: 0.5766 - val_loss: 0.5898 - val_accuracy: 0.7281\n",
      "Epoch 2/40\n",
      "100/100 [==============================] - 58s 579ms/step - loss: 0.4879 - accuracy: 0.7844 - val_loss: 0.1721 - val_accuracy: 0.9075\n",
      "Epoch 3/40\n",
      "100/100 [==============================] - 52s 518ms/step - loss: 0.2504 - accuracy: 0.9166 - val_loss: 0.1384 - val_accuracy: 0.9406\n",
      "Epoch 4/40\n",
      "100/100 [==============================] - 48s 477ms/step - loss: 0.2172 - accuracy: 0.9253 - val_loss: 0.2190 - val_accuracy: 0.9500\n",
      "Epoch 5/40\n",
      "100/100 [==============================] - 44s 436ms/step - loss: 0.2159 - accuracy: 0.9353 - val_loss: 0.0888 - val_accuracy: 0.9519\n",
      "Epoch 6/40\n",
      "100/100 [==============================] - 41s 405ms/step - loss: 0.1864 - accuracy: 0.9403 - val_loss: 0.1486 - val_accuracy: 0.9406\n",
      "Epoch 7/40\n",
      "100/100 [==============================] - 37s 374ms/step - loss: 0.1769 - accuracy: 0.9438 - val_loss: 0.1111 - val_accuracy: 0.9550\n",
      "Epoch 8/40\n",
      "100/100 [==============================] - 32s 324ms/step - loss: 0.1562 - accuracy: 0.9506 - val_loss: 0.2489 - val_accuracy: 0.9544\n",
      "Epoch 9/40\n",
      "100/100 [==============================] - 24s 245ms/step - loss: 0.1701 - accuracy: 0.9469 - val_loss: 0.4633 - val_accuracy: 0.9550\n",
      "Epoch 10/40\n",
      "100/100 [==============================] - 17s 168ms/step - loss: 0.1776 - accuracy: 0.9475 - val_loss: 0.3103 - val_accuracy: 0.9575\n",
      "Epoch 11/40\n",
      "100/100 [==============================] - 16s 165ms/step - loss: 0.1652 - accuracy: 0.9452 - val_loss: 0.2160 - val_accuracy: 0.9619\n",
      "Epoch 12/40\n",
      "100/100 [==============================] - 17s 169ms/step - loss: 0.1579 - accuracy: 0.9497 - val_loss: 0.3818 - val_accuracy: 0.9544\n",
      "Epoch 13/40\n",
      "100/100 [==============================] - 17s 168ms/step - loss: 0.1539 - accuracy: 0.9525 - val_loss: 0.2025 - val_accuracy: 0.9506\n",
      "Epoch 14/40\n",
      "100/100 [==============================] - 17s 169ms/step - loss: 0.1606 - accuracy: 0.9475 - val_loss: 0.2374 - val_accuracy: 0.9563\n",
      "Epoch 15/40\n",
      "100/100 [==============================] - 17s 169ms/step - loss: 0.1684 - accuracy: 0.9491 - val_loss: 0.1362 - val_accuracy: 0.9613\n",
      "Epoch 16/40\n",
      "100/100 [==============================] - 17s 167ms/step - loss: 0.1580 - accuracy: 0.9497 - val_loss: 0.1695 - val_accuracy: 0.9569\n",
      "Epoch 17/40\n",
      "100/100 [==============================] - 17s 167ms/step - loss: 0.1549 - accuracy: 0.9509 - val_loss: 0.1982 - val_accuracy: 0.9619\n",
      "Epoch 18/40\n",
      "100/100 [==============================] - 17s 170ms/step - loss: 0.1515 - accuracy: 0.9525 - val_loss: 0.1807 - val_accuracy: 0.9549\n",
      "Epoch 19/40\n",
      "100/100 [==============================] - 17s 168ms/step - loss: 0.1601 - accuracy: 0.9509 - val_loss: 0.0512 - val_accuracy: 0.9531\n",
      "Epoch 20/40\n",
      "100/100 [==============================] - 17s 167ms/step - loss: 0.1542 - accuracy: 0.9538 - val_loss: 0.2693 - val_accuracy: 0.9525\n",
      "Epoch 21/40\n",
      "100/100 [==============================] - 17s 168ms/step - loss: 0.1511 - accuracy: 0.9500 - val_loss: 0.0464 - val_accuracy: 0.9469\n",
      "Epoch 22/40\n",
      "100/100 [==============================] - 17s 168ms/step - loss: 0.1281 - accuracy: 0.9603 - val_loss: 0.1537 - val_accuracy: 0.9606\n",
      "Epoch 23/40\n",
      "100/100 [==============================] - 17s 170ms/step - loss: 0.1595 - accuracy: 0.9506 - val_loss: 0.3510 - val_accuracy: 0.9644\n",
      "Epoch 24/40\n",
      "100/100 [==============================] - 17s 167ms/step - loss: 0.1695 - accuracy: 0.9411 - val_loss: 0.0808 - val_accuracy: 0.9494\n",
      "Epoch 25/40\n",
      "100/100 [==============================] - 17s 168ms/step - loss: 0.1548 - accuracy: 0.9494 - val_loss: 0.2097 - val_accuracy: 0.9569\n",
      "Epoch 26/40\n",
      "100/100 [==============================] - 17s 171ms/step - loss: 0.1653 - accuracy: 0.9456 - val_loss: 0.1035 - val_accuracy: 0.9581\n",
      "Epoch 27/40\n",
      "100/100 [==============================] - 17s 165ms/step - loss: 0.1548 - accuracy: 0.9477 - val_loss: 0.0265 - val_accuracy: 0.9656\n",
      "Epoch 28/40\n",
      "100/100 [==============================] - 17s 168ms/step - loss: 0.1492 - accuracy: 0.9503 - val_loss: 0.0240 - val_accuracy: 0.9594\n",
      "Epoch 29/40\n",
      "100/100 [==============================] - 17s 169ms/step - loss: 0.1391 - accuracy: 0.9525 - val_loss: 0.0197 - val_accuracy: 0.9488\n",
      "Epoch 30/40\n",
      "100/100 [==============================] - 17s 166ms/step - loss: 0.1389 - accuracy: 0.9509 - val_loss: 0.0083 - val_accuracy: 0.9569\n",
      "Epoch 31/40\n",
      "100/100 [==============================] - 17s 167ms/step - loss: 0.1490 - accuracy: 0.9541 - val_loss: 0.2562 - val_accuracy: 0.9550\n",
      "Epoch 32/40\n",
      "100/100 [==============================] - 17s 168ms/step - loss: 0.1514 - accuracy: 0.9544 - val_loss: 0.0831 - val_accuracy: 0.9544\n",
      "Epoch 33/40\n",
      "100/100 [==============================] - 16s 164ms/step - loss: 0.1638 - accuracy: 0.9494 - val_loss: 0.1880 - val_accuracy: 0.9656\n",
      "Epoch 34/40\n",
      "100/100 [==============================] - 16s 164ms/step - loss: 0.1504 - accuracy: 0.9481 - val_loss: 0.0989 - val_accuracy: 0.9556\n",
      "Epoch 35/40\n",
      "100/100 [==============================] - 17s 166ms/step - loss: 0.1274 - accuracy: 0.9538 - val_loss: 0.0932 - val_accuracy: 0.9504\n",
      "Epoch 36/40\n",
      "100/100 [==============================] - 17s 172ms/step - loss: 0.1323 - accuracy: 0.9575 - val_loss: 0.0455 - val_accuracy: 0.9575\n",
      "Epoch 37/40\n",
      "100/100 [==============================] - 17s 168ms/step - loss: 0.1336 - accuracy: 0.9550 - val_loss: 0.0876 - val_accuracy: 0.9669\n",
      "Epoch 38/40\n",
      "100/100 [==============================] - 17s 166ms/step - loss: 0.1444 - accuracy: 0.9544 - val_loss: 0.0428 - val_accuracy: 0.9575\n",
      "Epoch 39/40\n",
      "100/100 [==============================] - 17s 166ms/step - loss: 0.1439 - accuracy: 0.9537 - val_loss: 0.0493 - val_accuracy: 0.9619\n",
      "Epoch 40/40\n",
      "100/100 [==============================] - 17s 165ms/step - loss: 0.1282 - accuracy: 0.9559 - val_loss: 0.0146 - val_accuracy: 0.9631\n"
     ]
    }
   ],
   "source": [
    "accuracies = classifier.fit_generator(parasite_data,\n",
    "                         steps_per_epoch = 100,\n",
    "                         epochs = 40,\n",
    "                         validation_data = uninfected_data,\n",
    "                         validation_steps = 50)"
   ]
  }
 ],
 "metadata": {
  "kernelspec": {
   "display_name": "Python 3",
   "language": "python",
   "name": "python3"
  },
  "language_info": {
   "codemirror_mode": {
    "name": "ipython",
    "version": 3
   },
   "file_extension": ".py",
   "mimetype": "text/x-python",
   "name": "python",
   "nbconvert_exporter": "python",
   "pygments_lexer": "ipython3",
   "version": "3.7.3"
  }
 },
 "nbformat": 4,
 "nbformat_minor": 2
}
